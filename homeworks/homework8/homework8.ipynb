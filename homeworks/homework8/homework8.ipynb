{
 "cells": [
  {
   "cell_type": "markdown",
   "metadata": {},
   "source": [
    "# Домашка 8\n",
    "\n",
    "## Задание 1\n",
    "\n",
    "При уровне значимости α=0,05 методом дисперсионного анализа проверить нулевую гипотезу о влиянии фактора на качество объекта на основании пяти измерений для трех уровней фактора Ф1 – Ф3. \n",
    "\n",
    "Номер измерения Ф1 Ф2 Ф3 1 18 24 36 2 28 36 12 3 12 28 22 4 14 40 45 5 32 16 40\n",
    "\n",
    "### Решение:"
   ]
  },
  {
   "cell_type": "code",
   "execution_count": 1,
   "metadata": {},
   "outputs": [],
   "source": [
    "import numpy as np"
   ]
  },
  {
   "cell_type": "code",
   "execution_count": 15,
   "metadata": {},
   "outputs": [],
   "source": [
    "#количество измерений в каждой группе\n",
    "n_f = 5\n",
    "\n",
    "#все измерений\n",
    "n = 15"
   ]
  },
  {
   "cell_type": "code",
   "execution_count": 6,
   "metadata": {},
   "outputs": [],
   "source": [
    "#количество групп\n",
    "k = 3\n",
    "\n",
    "#измерения в каждой группе\n",
    "y1 = np.array([18, 28, 12, 14, 32])\n",
    "y2 = np.array([24, 36, 28, 40, 16])\n",
    "y3 = np.array([36, 12, 22, 45, 40])"
   ]
  },
  {
   "cell_type": "code",
   "execution_count": 7,
   "metadata": {},
   "outputs": [
    {
     "data": {
      "text/plain": [
       "(20.8, 28.8, 31.0)"
      ]
     },
     "execution_count": 7,
     "metadata": {},
     "output_type": "execute_result"
    }
   ],
   "source": [
    "#найдем средние значения для каждой группы\n",
    "\n",
    "y1_mean = np.mean(y1)\n",
    "y2_mean = np.mean(y2)\n",
    "y3_mean = np.mean(y3)\n",
    "\n",
    "y1_mean, y2_mean, y3_mean"
   ]
  },
  {
   "cell_type": "markdown",
   "metadata": {},
   "source": [
    "Средние значения групп отличаются. Проверим, являются ли эти отличия статистически значимы, т.е. проверим, верна или не верна ли нулевая гипотеза, что статистически значимых отличий нет."
   ]
  },
  {
   "cell_type": "code",
   "execution_count": 8,
   "metadata": {},
   "outputs": [
    {
     "data": {
      "text/plain": [
       "26.866666666666667"
      ]
     },
     "execution_count": 8,
     "metadata": {},
     "output_type": "execute_result"
    }
   ],
   "source": [
    "#значения всех наблюдений\n",
    "y_all = np.concatenate([y1, y2, y3])\n",
    "\n",
    "#среднее значение по всем значениям\n",
    "y_mean = np.mean(y_all)\n",
    "y_mean"
   ]
  },
  {
   "cell_type": "code",
   "execution_count": 9,
   "metadata": {},
   "outputs": [
    {
     "data": {
      "text/plain": [
       "1705.7333333333331"
      ]
     },
     "execution_count": 9,
     "metadata": {},
     "output_type": "execute_result"
    }
   ],
   "source": [
    "#сумма квадратов отклонений наблюдений от общего среднего\n",
    "s2 = np.sum((y_all - y_mean)**2)\n",
    "s2"
   ]
  },
  {
   "cell_type": "code",
   "execution_count": 11,
   "metadata": {},
   "outputs": [
    {
     "data": {
      "text/plain": [
       "288.1333333333333"
      ]
     },
     "execution_count": 11,
     "metadata": {},
     "output_type": "execute_result"
    }
   ],
   "source": [
    "#сумма квадратов отклонений средних групповых значений от общего среднего\n",
    "s2_f = ((y1_mean - y_mean)**2) * n_f + ((y2_mean - y_mean)**2) * n_f + ((y3_mean - y_mean)**2) * n_f\n",
    "s2_f"
   ]
  },
  {
   "cell_type": "code",
   "execution_count": 12,
   "metadata": {},
   "outputs": [
    {
     "data": {
      "text/plain": [
       "1417.6"
      ]
     },
     "execution_count": 12,
     "metadata": {},
     "output_type": "execute_result"
    }
   ],
   "source": [
    "#остаточная сумма квадратов отклонений\n",
    "s2_residual = np.sum((y1 - y1_mean)**2) + np.sum((y2 - y2_mean)**2) + np.sum((y3 - y3_mean)**2)\n",
    "s2_residual"
   ]
  },
  {
   "cell_type": "code",
   "execution_count": 13,
   "metadata": {},
   "outputs": [
    {
     "name": "stdout",
     "output_type": "stream",
     "text": [
      "1705.7333333333331\n",
      "1705.7333333333331\n"
     ]
    }
   ],
   "source": [
    "#Удостоверимся, что соблюдается равенство s2 = s2_f + s2_residual\n",
    "print(s2)\n",
    "print(s2_f + s2_residual)"
   ]
  },
  {
   "cell_type": "code",
   "execution_count": 16,
   "metadata": {},
   "outputs": [
    {
     "name": "stdout",
     "output_type": "stream",
     "text": [
      "sigma2_general: 121.83809523809522\n",
      "sigma2_f: 144.06666666666666\n",
      "sigma2_residual: 118.13333333333333\n"
     ]
    }
   ],
   "source": [
    "#Найдем общую, факторную и остаточную дисперсии\n",
    "\n",
    "sigma2_general = s2 / (n - 1)\n",
    "print('sigma2_general:', sigma2_general)\n",
    "\n",
    "sigma2_f = s2_f / (k - 1)\n",
    "print('sigma2_f:', sigma2_f)\n",
    "\n",
    "sigma2_residual = s2_residual / (n - k)\n",
    "print('sigma2_residual:', sigma2_residual)"
   ]
  },
  {
   "cell_type": "code",
   "execution_count": 17,
   "metadata": {},
   "outputs": [
    {
     "data": {
      "text/plain": [
       "1.219525959367946"
      ]
     },
     "execution_count": 17,
     "metadata": {},
     "output_type": "execute_result"
    }
   ],
   "source": [
    "#вычислим F_h\n",
    "\n",
    "F_h = sigma2_f / sigma2_residual\n",
    "F_h"
   ]
  },
  {
   "cell_type": "code",
   "execution_count": 18,
   "metadata": {},
   "outputs": [
    {
     "name": "stdout",
     "output_type": "stream",
     "text": [
      "df_in: 2\n",
      "df_out: 12\n"
     ]
    }
   ],
   "source": [
    "#найдем значения степеней свободы\n",
    "\n",
    "df_in = 3 - 1     #между групп\n",
    "df_out = 15 - 3   #внутри групп\n",
    "\n",
    "print('df_in:', df_in)\n",
    "print('df_out:', df_out)"
   ]
  },
  {
   "cell_type": "markdown",
   "metadata": {},
   "source": [
    "Найдем значение $F_{крит}$ в таблице критических точек распределения Фишера-Снедекора для заданного уровня значимости $\\alpha = 0.05$ и двух степеней свободы: \n",
    "\n",
    "Для данных значений $F_{крит} = 3.89$. Так как $F_H < F_{крит}$, различие средних значений в трех группах __стастистически не значимо__."
   ]
  },
  {
   "cell_type": "markdown",
   "metadata": {},
   "source": [
    "Также вычислим эмпирическое корреляционное отношение $\\eta^2$:"
   ]
  },
  {
   "cell_type": "code",
   "execution_count": 19,
   "metadata": {},
   "outputs": [
    {
     "data": {
      "text/plain": [
       "0.16892050340029705"
      ]
     },
     "execution_count": 19,
     "metadata": {},
     "output_type": "execute_result"
    }
   ],
   "source": [
    "eta2 = s2_f / s2\n",
    "eta2"
   ]
  },
  {
   "cell_type": "markdown",
   "metadata": {},
   "source": [
    "Значение $\\eta^2$ близко к 0 — значит,  различие средних значений в трех группах является __статистически не значимым__."
   ]
  },
  {
   "cell_type": "markdown",
   "metadata": {},
   "source": [
    "## Задание 2\n",
    "\n",
    "Напишите, пожалуйста, какие темы были для Вас слишком простоми, а какие слишком сложными.\n",
    "\n",
    "#### Мое субъективное мнение:\n",
    "\n",
    "Весь курс очень-очень слабый. Значительно слабее все остальных пройденных курсов. На уровне бесплатных вводных курсов по программированию. Слабый как с точки зрения методической проработки (содержания), так и слабый с точки зрения подачи (просто зачитывание теории с презентации). Задания очень простые по принципу \"скопируй и подставь в формулу\" и совершенно не заставляют думать. Объем материала в каждой теме тоже очень поверхностный.\n",
    "\n",
    "Если интересно посмотреть примеры более сильных и интересных курсов посмотрите: \n",
    "\n",
    "1. курс Эрика Муллагалиева по введению в матанализ здесь же на ГБ\n",
    "2. курс по основам статистики на Степике от Анатолия Карпова: https://stepik.org/course/76\n",
    "\n",
    "Оба эти курсы (в сравнении с текущим) более глубокие, при этом очень понятные, с домашними разной степени сложности и заставляющими подумать и осмыслить, что было в теории."
   ]
  },
  {
   "cell_type": "code",
   "execution_count": null,
   "metadata": {},
   "outputs": [],
   "source": []
  }
 ],
 "metadata": {
  "kernelspec": {
   "display_name": "Python 3",
   "language": "python",
   "name": "python3"
  },
  "language_info": {
   "codemirror_mode": {
    "name": "ipython",
    "version": 3
   },
   "file_extension": ".py",
   "mimetype": "text/x-python",
   "name": "python",
   "nbconvert_exporter": "python",
   "pygments_lexer": "ipython3",
   "version": "3.8.3"
  }
 },
 "nbformat": 4,
 "nbformat_minor": 4
}
