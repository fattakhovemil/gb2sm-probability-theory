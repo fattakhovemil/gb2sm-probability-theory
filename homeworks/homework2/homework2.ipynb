{
 "cells": [
  {
   "cell_type": "markdown",
   "metadata": {},
   "source": [
    "# Аверьянов Алексей. Домашка 2"
   ]
  },
  {
   "cell_type": "code",
   "execution_count": 3,
   "metadata": {},
   "outputs": [],
   "source": [
    "import  numpy as np"
   ]
  },
  {
   "cell_type": "markdown",
   "metadata": {},
   "source": [
    "### Задача 1.\n",
    "Две игральные кости одновременно бросают два раза. Написать биноминальный закон распределения дискретной случайной величины X - числа выпадений чётного числа очков на двух игральных костях."
   ]
  },
  {
   "cell_type": "markdown",
   "metadata": {},
   "source": [
    "#### Решение:"
   ]
  },
  {
   "cell_type": "markdown",
   "metadata": {},
   "source": [
    "Полное вероятностное пространство состоит из 36 элементов. Вероятностное пространство выпадения четного числа состоит из 18 элементов. Значит вероятность выпадания четного числа очков в одном броске равняется p = 0.5. Вероятность нечетного q = 0.5\n",
    "\n",
    "Теперь мы легко посчитаем вероятности значения в таблице ниже:\n",
    " - $p_0 = 0.5 * 0.5 = 0.25$\n",
    " - $p_1 = 0.5 * 0.5 + 0.5 * 0.5 = 0.5$\n",
    " - $p_2 = 0.5 * 0.5 = 0.25$\n",
    " \n",
    " \n",
    "<table border=\"3\">\n",
    "<tr><th>**X**</th><td>0</td><td>1</td><td>2</td></tr>\n",
    "<tr><th>**p**</th><td>0.25</td><td>0.5</td><td>0.25</td></tr>\n",
    "</table>"
   ]
  },
  {
   "cell_type": "markdown",
   "metadata": {},
   "source": [
    "### Задание 2\n",
    "Станок-автомат штампует детали. Вероятность того, что изготовленная деталь окажется бракованной, равна 0.01. Найти вероятность того, что среди 200 деталей окажется ровно 4 бракованных."
   ]
  },
  {
   "cell_type": "markdown",
   "metadata": {},
   "source": [
    "#### Решение:\n",
    "\n",
    "Применим формулу Пуассона"
   ]
  },
  {
   "cell_type": "code",
   "execution_count": 4,
   "metadata": {
    "scrolled": true
   },
   "outputs": [
    {
     "data": {
      "text/plain": [
       "0.09022352215774179"
      ]
     },
     "execution_count": 4,
     "metadata": {},
     "output_type": "execute_result"
    }
   ],
   "source": [
    "n = 200\n",
    "m = 4\n",
    "p = 0.01\n",
    "lambda_ = n * p\n",
    "\n",
    "(lambda_**m / np.math.factorial(m)) * np.exp(-lambda_)"
   ]
  },
  {
   "cell_type": "markdown",
   "metadata": {},
   "source": [
    "### Задание 3\n",
    "Магазин получил 1000 бутылок минеральной воды. Вероятность того, что при перевозке бутылка окажется разбитой равна 0.003. Найти вероятности того, что магазин получит: а) ровно две разбитые бутылки; б) менее двух разбитых бутылок; в) более двух разбитых бутылок; г) хоты бы одну разбитую бутылку."
   ]
  },
  {
   "cell_type": "markdown",
   "metadata": {},
   "source": [
    "#### Решение\n",
    "\n",
    "Вновь воспользуемся формулой Пуассона"
   ]
  },
  {
   "cell_type": "code",
   "execution_count": 8,
   "metadata": {},
   "outputs": [],
   "source": [
    "n = 1000\n",
    "p = 0.003\n",
    "lambda_ = n * p\n",
    "\n",
    "def puasson(m):\n",
    "    return (lambda_**m / np.math.factorial(m)) * np.exp(-lambda_)"
   ]
  },
  {
   "cell_type": "code",
   "execution_count": 10,
   "metadata": {
    "scrolled": true
   },
   "outputs": [
    {
     "data": {
      "text/plain": [
       "0.22404180765538775"
      ]
     },
     "execution_count": 10,
     "metadata": {},
     "output_type": "execute_result"
    }
   ],
   "source": [
    "#а)\n",
    "m = 2\n",
    "puasson(m)"
   ]
  },
  {
   "cell_type": "code",
   "execution_count": 11,
   "metadata": {},
   "outputs": [
    {
     "data": {
      "text/plain": [
       "0.19914827347145578"
      ]
     },
     "execution_count": 11,
     "metadata": {},
     "output_type": "execute_result"
    }
   ],
   "source": [
    "#б)\n",
    "m1 = 0; m2 = 1\n",
    "puasson(m1) + puasson(m2)"
   ]
  },
  {
   "cell_type": "code",
   "execution_count": 12,
   "metadata": {},
   "outputs": [
    {
     "data": {
      "text/plain": [
       "0.5768099188731565"
      ]
     },
     "execution_count": 12,
     "metadata": {},
     "output_type": "execute_result"
    }
   ],
   "source": [
    "#в)\n",
    "1 - puasson(0) - puasson(1) - puasson(2)"
   ]
  },
  {
   "cell_type": "code",
   "execution_count": 13,
   "metadata": {},
   "outputs": [
    {
     "data": {
      "text/plain": [
       "0.950212931632136"
      ]
     },
     "execution_count": 13,
     "metadata": {},
     "output_type": "execute_result"
    }
   ],
   "source": [
    "#г)\n",
    "1 - puasson(0)"
   ]
  },
  {
   "cell_type": "markdown",
   "metadata": {},
   "source": [
    "### Задание 4\n",
    "В магазин за одну минуту в среднем заходят 5 человек. Найдите вероятность того, что за 2 минуты в магазин зайдет не более 1 человека."
   ]
  },
  {
   "cell_type": "markdown",
   "metadata": {},
   "source": [
    "#### Решение\n",
    "\n",
    "Опять воспользуемся формулой Пуассона"
   ]
  },
  {
   "cell_type": "code",
   "execution_count": 14,
   "metadata": {},
   "outputs": [
    {
     "data": {
      "text/plain": [
       "0.0004993992273873334"
      ]
     },
     "execution_count": 14,
     "metadata": {},
     "output_type": "execute_result"
    }
   ],
   "source": [
    "lambda_ = 5*2\n",
    "\n",
    "(lambda_**0 / np.math.factorial(0)) * np.exp(-lambda_) + (lambda_**1 / np.math.factorial(1)) * np.exp(-lambda_)"
   ]
  },
  {
   "cell_type": "markdown",
   "metadata": {},
   "source": [
    "### Задание 5\n",
    "Достоверно известно, что в тексте учебника по экономике содержатся опечатки: в среднем, одна на десять страниц. Пусть Х – число опечаток на одной странице. Определить закон распределения для Х. Найти вероятность, что на странице есть хотя бы одна опечатка."
   ]
  },
  {
   "cell_type": "markdown",
   "metadata": {},
   "source": [
    "#### Решение"
   ]
  },
  {
   "cell_type": "markdown",
   "metadata": {},
   "source": [
    "$$\\lambda = 0.1 $$\n",
    "\n",
    "\n",
    "$$P_{X} \\approx \\frac{\\lambda^X}{X!}e^{-\\lambda}  $$"
   ]
  },
  {
   "cell_type": "code",
   "execution_count": 16,
   "metadata": {},
   "outputs": [
    {
     "data": {
      "text/plain": [
       "0.09516258196404048"
      ]
     },
     "execution_count": 16,
     "metadata": {},
     "output_type": "execute_result"
    }
   ],
   "source": [
    "lambda_ = 0.1\n",
    "1 - (lambda_**0 / np.math.factorial(0)) * np.exp(-lambda_)"
   ]
  }
 ],
 "metadata": {
  "kernelspec": {
   "display_name": "Python 3",
   "language": "python",
   "name": "python3"
  },
  "language_info": {
   "codemirror_mode": {
    "name": "ipython",
    "version": 3
   },
   "file_extension": ".py",
   "mimetype": "text/x-python",
   "name": "python",
   "nbconvert_exporter": "python",
   "pygments_lexer": "ipython3",
   "version": "3.8.3"
  }
 },
 "nbformat": 4,
 "nbformat_minor": 4
}
